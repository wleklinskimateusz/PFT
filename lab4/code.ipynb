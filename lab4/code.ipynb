{
 "cells": [
  {
   "cell_type": "code",
   "execution_count": 120,
   "metadata": {},
   "outputs": [],
   "source": [
    "import numpy as np\n",
    "import matplotlib.pyplot as plt\n",
    "import sys\n",
    "import os"
   ]
  },
  {
   "cell_type": "code",
   "execution_count": 121,
   "metadata": {},
   "outputs": [],
   "source": [
    "alfa, m, N = 1.0, 1.0, 50"
   ]
  },
  {
   "cell_type": "code",
   "execution_count": 122,
   "metadata": {},
   "outputs": [],
   "source": [
    "path = os.getcwd()\n",
    "path = path[:-2]\n",
    "sys.path.append(path)"
   ]
  },
  {
   "cell_type": "code",
   "execution_count": 123,
   "metadata": {},
   "outputs": [],
   "source": [
    "def RK4_vec(t, dt, n, s, func):\n",
    "    k1 = np.zeros(n)\n",
    "    k2 = np.zeros(n)\n",
    "    k3 = np.zeros(n)\n",
    "    k4 = np.zeros(n)\n",
    "    w = np.zeros(n)\n",
    "    for i in range(n):\n",
    "        w[i] = s[i]\n",
    "    func(t, w, k1)\n",
    "    for i in range(n):\n",
    "        w[i] = s[i] + dt/2 * k1[i]\n",
    "    func(t + dt/2, w, k2)\n",
    "    for i in range(n):\n",
    "        w[i] = s[i] + dt/2 * k2[i]\n",
    "    func(t + dt/2, w, k3)\n",
    "    for i in range(n):\n",
    "        w[i] = s[i] + dt * k3[i]\n",
    "    func(t + dt, w, k4)\n",
    "    for i in range(n):\n",
    "        s[i] += dt/6 * (k1[i] + 2*k2[i] + 2*k3[i] + k4[i])\n"
   ]
  },
  {
   "cell_type": "code",
   "execution_count": 124,
   "metadata": {},
   "outputs": [],
   "source": [
    "def derivatives(t: float, s: np.array, k: np.array) -> None:\n",
    "    alfa, m, N = 1.0, 1.0, 50\n",
    "\n",
    "    for i in range(1, N):\n",
    "        k[i] = s[i+N+1]  # x\n",
    "        k[i+N+1] = (alfa/m)*(s[i-1] - 2*s[i] + s[i+1])  # v\n",
    "    \n",
    "    k[0] = 0\n",
    "    k[N] = 0\n",
    "    k[N+1] = 0\n",
    "    k[2*N+1] = 0"
   ]
  },
  {
   "cell_type": "code",
   "execution_count": 125,
   "metadata": {},
   "outputs": [],
   "source": [
    "alfa, m, N = 1.0, 1.0, 50  # N+1 - liczba atomów\n",
    "dt, dx = 0.02, 0.1\n",
    "n = 5000 # liczba kroków czasowych\n",
    "sigma = 3*dx\n",
    "t_max = n*dt\n",
    "x_max = N*dx\n",
    "t_vec = np.linspace(0.0, t_max, n+1)\n",
    "x_vec = np.linspace(0, N, N+1)\n",
    "s = np.zeros(2*N+2)"
   ]
  },
  {
   "cell_type": "markdown",
   "metadata": {},
   "source": [
    "### 1. Symulacja propagacji zaburzeń w łańcuchu"
   ]
  },
  {
   "cell_type": "code",
   "execution_count": 126,
   "metadata": {},
   "outputs": [],
   "source": [
    "def init_cond(): # war. początkowy\n",
    "    for i in range(1, N+1):\n",
    "        s[i] = i*dx + (dx/3)*np.exp( -((i*dx - 0.5*x_max)**2)/(2*sigma**2) )"
   ]
  },
  {
   "cell_type": "code",
   "execution_count": 127,
   "metadata": {},
   "outputs": [],
   "source": [
    "x, v, T, U = np.zeros((N+1, n+1)), np.zeros((N+1, n+1)), np.zeros(n+1), np.zeros(n+1)\n",
    "x_temp = np.copy(x) # tablica do wychyleń cząstek"
   ]
  },
  {
   "cell_type": "code",
   "execution_count": 128,
   "metadata": {},
   "outputs": [],
   "source": [
    "i, t = 0, 0\n",
    "init_cond()\n",
    "while i <= n:\n",
    "    RK4_vec(t, dt, 2*N+2, s, derivatives)\n",
    "    t += dt\n",
    "\n",
    "    for j in range(N+1):\n",
    "        x[j][i] = s[j]\n",
    "        v[j][i] = s[j+N+1]\n",
    "        x_temp[j][i] = x[j][i] - dx*j\n",
    "\n",
    "    for k in range(N+1):\n",
    "        T[i] += 0.5*m*(v[k][i])**2\n",
    "    i += 1\n",
    "\n",
    "i = 0\n",
    "while i <= n:\n",
    "    for k in range(1, N+1):\n",
    "        U[i] += 0.5*alfa*( x[k-1][i] - x[k][i] + dx )**2\n",
    "    i += 1"
   ]
  },
  {
   "cell_type": "code",
   "execution_count": 129,
   "metadata": {},
   "outputs": [
    {
     "data": {
      "image/png": "[encoded data removed]",
      "text/plain": [
       "<Figure size 432x288 with 1 Axes>"
      ]
     },
     "metadata": {
      "needs_background": "light"
     },
     "output_type": "display_data"
    }
   ],
   "source": [
    "plt.plot(t_vec, T)\n",
    "plt.plot(t_vec, U)\n",
    "plt.plot(t_vec, T+U)\n",
    "plt.grid()\n",
    "plt.xlim(0.0, 100.0)\n",
    "plt.ylim(0.0, 0.0002)\n",
    "plt.xlabel('t')\n",
    "plt.ylabel('E')\n",
    "plt.legend([r'$E_{k}$', r'$E_{p}$', r'$E_{c}$'], loc=1)\n",
    "plt.show()"
   ]
  },
  {
   "cell_type": "code",
   "execution_count": 130,
   "metadata": {},
   "outputs": [
    {
     "data": {
      "image/png": "[encoded data removed]",
      "text/plain": [
       "<Figure size 432x288 with 2 Axes>"
      ]
     },
     "metadata": {
      "needs_background": "light"
     },
     "output_type": "display_data"
    }
   ],
   "source": [
    "plt.pcolormesh(t_vec, x_vec, x_temp, shading='auto')\n",
    "cbar = plt.colorbar(orientation=\"horizontal\")\n",
    "cbar.set_label('u(x, t)')\n",
    "plt.xlabel('t')\n",
    "plt.ylabel('x')\n",
    "# plt.xlim(0.0, 5.0)\n",
    "plt.tight_layout()\n",
    "plt.show()"
   ]
  },
  {
   "cell_type": "markdown",
   "metadata": {},
   "source": [
    "### 2. Rezonans mechaniczny"
   ]
  },
  {
   "cell_type": "code",
   "execution_count": 131,
   "metadata": {},
   "outputs": [],
   "source": [
    "alfa, m, N = 1.0, 1.0, 50  # N+1 - liczba atomów\n",
    "dt, dx = 0.02, 0.1\n",
    "sigma = 3*dx\n",
    "x_max = N*dx\n",
    "x_vec = np.linspace(0, N, N+1)\n",
    "s = np.zeros(2*N+2)\n",
    "\n",
    "nn = [0.9, 1.0, 1.1, 1.5, 2.0, 5.0]\n",
    "omega_n = [ 2*np.sqrt(alfa/m)*abs(np.sin(np.pi*nn[i]/(2*N))) for i in range(len(nn)) ]\n",
    "t_max = [40*np.pi/(omega_n[i]) for i in range(len(omega_n))]\n",
    "n = [int(t_max[i]/dt) for i in range(len(t_max))]  # czas\n",
    "t_vec = np.linspace(0.0, t_max[5], n[5]+1)\n",
    "\n",
    "x, v, T, U = np.zeros((N+1, n[5]+1)), np.zeros((N+1, n[5]+1)), np.zeros(n[5]+1), np.zeros(n[5]+1)\n",
    "x_temp = np.copy(x) # tablica do wychyleń cząstek"
   ]
  },
  {
   "cell_type": "code",
   "execution_count": 132,
   "metadata": {},
   "outputs": [],
   "source": [
    "def init_cond_res(): # war. początkowy\n",
    "    for i in range(1, N+1):\n",
    "        s[i] = i*dx\n",
    "\n",
    "def derivatives_res(t: float, s: np.array, k: np.array) -> None:\n",
    "    alfa, m, N, F = 1.0, 1.0, 50, 0.01\n",
    "\n",
    "    for i in range(1, N):\n",
    "        k[i] = s[i+N+1]  # x\n",
    "        k[i+N+1] = (alfa/m)*(s[i-1] - 2*s[i] + s[i+1])  # v\n",
    "    \n",
    "    k[0] = 0\n",
    "    k[N] = 0\n",
    "    k[N+1] = 0\n",
    "    k[2*N+1] = 0\n",
    "    k[N+2] = (alfa/m)*(s[0] - 2*s[1] + s[2]) + (F/m)*np.sin(omega_n[5]*t)"
   ]
  },
  {
   "cell_type": "code",
   "execution_count": 133,
   "metadata": {},
   "outputs": [],
   "source": [
    "i, t = 0, 0\n",
    "init_cond_res()\n",
    "while i <= n[5]:\n",
    "    RK4_vec(t, dt, 2*N+2, s, derivatives_res)\n",
    "    t += dt\n",
    "\n",
    "    for j in range(N+1):\n",
    "        x[j][i] = s[j]\n",
    "        v[j][i] = s[j+N+1]\n",
    "        x_temp[j][i] = x[j][i] - dx*j\n",
    "    i += 1\n",
    "\n",
    "i = 0\n",
    "while i <= n[5]:\n",
    "    for k in range(N+1):\n",
    "        T[i] += 0.5*m*(v[k][i])**2\n",
    "    i += 1\n",
    "\n",
    "i = 0\n",
    "while i <= n[5]:\n",
    "    for k in range(1, N+1):\n",
    "        U[i] += 0.5*alfa*( x[k-1][i] - x[k][i] + dx )**2\n",
    "    i += 1"
   ]
  },
  {
   "cell_type": "code",
   "execution_count": 134,
   "metadata": {},
   "outputs": [
    {
     "data": {
      "image/png": "[encoded data removed]",
      "text/plain": [
       "<Figure size 432x288 with 1 Axes>"
      ]
     },
     "metadata": {
      "needs_background": "light"
     },
     "output_type": "display_data"
    }
   ],
   "source": [
    "plt.plot(t_vec, T)\n",
    "plt.plot(t_vec, U)\n",
    "plt.plot(t_vec, T+U)\n",
    "plt.grid()\n",
    "plt.xlim(0.0, t_max[5])\n",
    "plt.ylim(0.0, 0.008)\n",
    "plt.xlabel('t')\n",
    "plt.ylabel('E')\n",
    "plt.legend([r'$E_{k}$', r'$E_{p}$', r'$E_{c}$'], loc=0)\n",
    "plt.show()"
   ]
  },
  {
   "cell_type": "code",
   "execution_count": 135,
   "metadata": {},
   "outputs": [
    {
     "data": {
      "image/png": "[encoded data removed]",
      "text/plain": [
       "<Figure size 432x288 with 2 Axes>"
      ]
     },
     "metadata": {
      "needs_background": "light"
     },
     "output_type": "display_data"
    }
   ],
   "source": [
    "plt.pcolormesh(t_vec, x_vec, x_temp, shading='auto')\n",
    "cbar = plt.colorbar(orientation=\"horizontal\")\n",
    "cbar.set_label('u(x, t)')\n",
    "plt.xlabel('t')\n",
    "plt.ylabel('x')\n",
    "plt.tight_layout()\n",
    "plt.show()"
   ]
  }
 ],
 "metadata": {
  "interpreter": {
   "hash": "916dbcbb3f70747c44a77c7bcd40155683ae19c65e1c03b4aa3499c5328201f1"
  },
  "kernelspec": {
   "display_name": "Python 3.10.4 64-bit",
   "language": "python",
   "name": "python3"
  },
  "language_info": {
   "codemirror_mode": {
    "name": "ipython",
    "version": 3
   },
   "file_extension": ".py",
   "mimetype": "text/x-python",
   "name": "python",
   "nbconvert_exporter": "python",
   "pygments_lexer": "ipython3",
   "version": "3.10.4"
  },
  "orig_nbformat": 4
 },
 "nbformat": 4,
 "nbformat_minor": 2
}
